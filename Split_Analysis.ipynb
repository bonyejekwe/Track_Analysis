{
 "cells": [
  {
   "cell_type": "markdown",
   "metadata": {},
   "source": [
    "## Split Analysis\n",
    "### Brandon Onyejekwe\n",
    "### Created 7/10/2021"
   ]
  },
  {
   "cell_type": "markdown",
   "metadata": {},
   "source": [
    "## 2021 NCAA Championships"
   ]
  },
  {
   "cell_type": "code",
   "execution_count": 1,
   "metadata": {},
   "outputs": [],
   "source": [
    "import re\n",
    "import requests\n",
    "from bs4 import BeautifulSoup\n",
    "import pandas as pd\n",
    "import matplotlib.pyplot as plt\n",
    "import seaborn as sns\n",
    "\n",
    "#url = 'https://results.usatf.org/'\n",
    "url1 = 'https://www.flashresults.com/2021_Meets/Outdoor/06-09_NCAA/004-1-01.htm' #M semi 1\n",
    "url2 = 'https://www.flashresults.com/2021_Meets/Outdoor/06-09_NCAA/004-1-02.htm' #M semi 2\n",
    "url3 = 'https://www.flashresults.com/2021_Meets/Outdoor/06-09_NCAA/004-1-03.htm' #M semi 3\n",
    "url4 = 'https://www.flashresults.com/2021_Meets/Outdoor/06-09_NCAA/004-2-01.htm' #M final\n",
    "url5 = 'https://www.flashresults.com/2021_Meets/Outdoor/06-09_NCAA/024-1-01.htm' #F semi 1\n",
    "url6 = 'https://www.flashresults.com/2021_Meets/Outdoor/06-09_NCAA/024-1-02.htm' #F semi 2\n",
    "url7 = 'https://www.flashresults.com/2021_Meets/Outdoor/06-09_NCAA/024-1-03.htm' #F semi 3\n",
    "url8 = 'https://www.flashresults.com/2021_Meets/Outdoor/06-09_NCAA/024-2-01.htm' #F final"
   ]
  },
  {
   "cell_type": "code",
   "execution_count": 2,
   "metadata": {},
   "outputs": [],
   "source": [
    "def time_conv(time):\n",
    "    \"\"\"Convert string times to float seconds (format: 'm:s.s' or 's.d')\"\"\"\n",
    "    if ':' in time:\n",
    "        mins, secs = time.split(':')\n",
    "        return float(int(mins)*60 + float(secs))\n",
    "    else:\n",
    "        return float(time)\n",
    "    \n",
    "def get_data(url, g):\n",
    "    \"\"\"Web scrape time data from a specific race\"\"\"\n",
    "    response = requests.get(url)\n",
    "    soup = BeautifulSoup(response.text, 'html.parser')\n",
    "    \n",
    "    t = [str(e) for e in soup.findAll('td') if '[' in str(e)] #each element with data in brackets\n",
    "    t2 = [f.split('[')[1].split(']')[0] for f in t] #get data b/w brackets (every third has grade of runner)\n",
    "    t3 = [t2[i] for i in range(len(t2)) if i % 3 != 0] #get rid of grades, only splits left\n",
    "    t4 = [ (time_conv(t3[i]), time_conv(t3[i+1]), g ) for i in range(0, len(t3), 2) if i+1 < len(t3)]\n",
    "    return t4"
   ]
  },
  {
   "cell_type": "code",
   "execution_count": 5,
   "metadata": {},
   "outputs": [
    {
     "name": "stdout",
     "output_type": "stream",
     "text": [
      "1 races done...\n",
      "2 races done...\n",
      "3 races done...\n",
      "4 races done...\n",
      "5 races done...\n",
      "6 races done...\n",
      "7 races done...\n",
      "8 races done...\n",
      "complete: [(52.39, 54.52, 'M'), (52.46, 54.46, 'M'), (52.65, 54.82, 'M'), (52.01, 56.14, 'M'), (52.88, 55.41, 'M'), (53.19, 55.34, 'M'), (52.22, 56.73, 'M'), (52.78, 60.87, 'M'), (53.61, 53.67, 'M'), (53.44, 53.87, 'M'), (53.01, 54.42, 'M'), (53.22, 54.28, 'M'), (53.64, 55.29, 'M'), (53.81, 55.26, 'M'), (53.42, 58.65, 'M'), (52.36, 55.44, 'M'), (52.8, 55.1, 'M'), (52.52, 55.4, 'M'), (52.52, 55.64, 'M'), (52.54, 55.92, 'M'), (52.31, 57.48, 'M'), (53.08, 57.31, 'M'), (53.01, 57.5, 'M'), (50.97, 53.72, 'M'), (50.94, 54.03, 'M'), (52.12, 53.64, 'M'), (51.75, 54.05, 'M'), (52.48, 53.86, 'M'), (52.31, 54.39, 'M'), (51.88, 54.88, 'M'), (52.0, 54.76, 'M'), (52.23, 54.71, 'M'), (58.19, 63.64, 'F'), (58.42, 63.83, 'F'), (58.56, 64.02, 'F'), (58.04, 65.85, 'F'), (58.78, 66.14, 'F'), (59.79, 66.95, 'F'), (63.9, 72.0, 'F'), (61.91, 71.17, 'F'), (59.96, 63.21, 'F'), (59.71, 63.82, 'F'), (59.46, 64.2, 'F'), (59.92, 64.38, 'F'), (59.42, 65.5, 'F'), (60.76, 64.39, 'F'), (60.71, 65.25, 'F'), (60.92, 66.87, 'F'), (62.41, 61.09, 'F'), (62.03, 61.6, 'F'), (62.27, 61.68, 'F'), (62.08, 62.18, 'F'), (62.22, 62.27, 'F'), (62.45, 63.83, 'F'), (62.42, 64.48, 'F'), (62.58, 64.62, 'F'), (58.01, 62.27, 'F'), (57.96, 62.7, 'F'), (58.18, 63.03, 'F'), (58.3, 63.61, 'F'), (58.45, 64.15, 'F'), (58.22, 64.62, 'F'), (58.27, 64.58, 'F'), (58.52, 64.46, 'F'), (57.63, 66.47, 'F'), (57.79, 66.49, 'F')]\n"
     ]
    }
   ],
   "source": [
    "url = [url1, url2, url3, url4, url5, url6, url7, url8]\n",
    "g = ['M', 'M', 'M', 'M', 'F', 'F', 'F', 'F']\n",
    "data = []\n",
    "for i in range(len(url)):\n",
    "    data += get_data(url[i], g[i])\n",
    "    print(f'{i+1} races done...')\n",
    "print('complete:', data)\n",
    "df = pd.DataFrame(data, columns=['split1', 'split2', 'G'])"
   ]
  },
  {
   "cell_type": "code",
   "execution_count": 6,
   "metadata": {},
   "outputs": [
    {
     "data": {
      "text/html": [
       "<div>\n",
       "<style scoped>\n",
       "    .dataframe tbody tr th:only-of-type {\n",
       "        vertical-align: middle;\n",
       "    }\n",
       "\n",
       "    .dataframe tbody tr th {\n",
       "        vertical-align: top;\n",
       "    }\n",
       "\n",
       "    .dataframe thead th {\n",
       "        text-align: right;\n",
       "    }\n",
       "</style>\n",
       "<table border=\"1\" class=\"dataframe\">\n",
       "  <thead>\n",
       "    <tr style=\"text-align: right;\">\n",
       "      <th></th>\n",
       "      <th>split1</th>\n",
       "      <th>split2</th>\n",
       "      <th>G</th>\n",
       "      <th>diff</th>\n",
       "      <th>time</th>\n",
       "    </tr>\n",
       "  </thead>\n",
       "  <tbody>\n",
       "    <tr>\n",
       "      <th>0</th>\n",
       "      <td>52.39</td>\n",
       "      <td>54.52</td>\n",
       "      <td>M</td>\n",
       "      <td>-2.13</td>\n",
       "      <td>106.91</td>\n",
       "    </tr>\n",
       "    <tr>\n",
       "      <th>1</th>\n",
       "      <td>52.46</td>\n",
       "      <td>54.46</td>\n",
       "      <td>M</td>\n",
       "      <td>-2.00</td>\n",
       "      <td>106.92</td>\n",
       "    </tr>\n",
       "    <tr>\n",
       "      <th>2</th>\n",
       "      <td>52.65</td>\n",
       "      <td>54.82</td>\n",
       "      <td>M</td>\n",
       "      <td>-2.17</td>\n",
       "      <td>107.47</td>\n",
       "    </tr>\n",
       "    <tr>\n",
       "      <th>3</th>\n",
       "      <td>52.01</td>\n",
       "      <td>56.14</td>\n",
       "      <td>M</td>\n",
       "      <td>-4.13</td>\n",
       "      <td>108.15</td>\n",
       "    </tr>\n",
       "    <tr>\n",
       "      <th>4</th>\n",
       "      <td>52.88</td>\n",
       "      <td>55.41</td>\n",
       "      <td>M</td>\n",
       "      <td>-2.53</td>\n",
       "      <td>108.29</td>\n",
       "    </tr>\n",
       "    <tr>\n",
       "      <th>...</th>\n",
       "      <td>...</td>\n",
       "      <td>...</td>\n",
       "      <td>...</td>\n",
       "      <td>...</td>\n",
       "      <td>...</td>\n",
       "    </tr>\n",
       "    <tr>\n",
       "      <th>61</th>\n",
       "      <td>58.22</td>\n",
       "      <td>64.62</td>\n",
       "      <td>F</td>\n",
       "      <td>-6.40</td>\n",
       "      <td>122.84</td>\n",
       "    </tr>\n",
       "    <tr>\n",
       "      <th>62</th>\n",
       "      <td>58.27</td>\n",
       "      <td>64.58</td>\n",
       "      <td>F</td>\n",
       "      <td>-6.31</td>\n",
       "      <td>122.85</td>\n",
       "    </tr>\n",
       "    <tr>\n",
       "      <th>63</th>\n",
       "      <td>58.52</td>\n",
       "      <td>64.46</td>\n",
       "      <td>F</td>\n",
       "      <td>-5.94</td>\n",
       "      <td>122.98</td>\n",
       "    </tr>\n",
       "    <tr>\n",
       "      <th>64</th>\n",
       "      <td>57.63</td>\n",
       "      <td>66.47</td>\n",
       "      <td>F</td>\n",
       "      <td>-8.84</td>\n",
       "      <td>124.10</td>\n",
       "    </tr>\n",
       "    <tr>\n",
       "      <th>65</th>\n",
       "      <td>57.79</td>\n",
       "      <td>66.49</td>\n",
       "      <td>F</td>\n",
       "      <td>-8.70</td>\n",
       "      <td>124.28</td>\n",
       "    </tr>\n",
       "  </tbody>\n",
       "</table>\n",
       "<p>66 rows × 5 columns</p>\n",
       "</div>"
      ],
      "text/plain": [
       "    split1  split2  G  diff    time\n",
       "0    52.39   54.52  M -2.13  106.91\n",
       "1    52.46   54.46  M -2.00  106.92\n",
       "2    52.65   54.82  M -2.17  107.47\n",
       "3    52.01   56.14  M -4.13  108.15\n",
       "4    52.88   55.41  M -2.53  108.29\n",
       "..     ...     ... ..   ...     ...\n",
       "61   58.22   64.62  F -6.40  122.84\n",
       "62   58.27   64.58  F -6.31  122.85\n",
       "63   58.52   64.46  F -5.94  122.98\n",
       "64   57.63   66.47  F -8.84  124.10\n",
       "65   57.79   66.49  F -8.70  124.28\n",
       "\n",
       "[66 rows x 5 columns]"
      ]
     },
     "execution_count": 6,
     "metadata": {},
     "output_type": "execute_result"
    }
   ],
   "source": [
    "df['diff'] = df['split1'] - df['split2'] # positive (split) if second half slower\n",
    "df['time'] = df['split1'] + df['split2'] # total race time\n",
    "df"
   ]
  },
  {
   "cell_type": "code",
   "execution_count": 7,
   "metadata": {},
   "outputs": [
    {
     "data": {
      "text/plain": [
       "<seaborn.axisgrid.FacetGrid at 0x7fdc55856e80>"
      ]
     },
     "execution_count": 7,
     "metadata": {},
     "output_type": "execute_result"
    },
    {
     "data": {
      "image/png": "[encoded data removed]",
      "text/plain": [
       "<Figure size 424.75x360 with 1 Axes>"
      ]
     },
     "metadata": {
      "needs_background": "light"
     },
     "output_type": "display_data"
    },
    {
     "data": {
      "image/png": "[encoded data removed]",
      "text/plain": [
       "<Figure size 415.125x360 with 1 Axes>"
      ]
     },
     "metadata": {
      "needs_background": "light"
     },
     "output_type": "display_data"
    }
   ],
   "source": [
    "M = df[df['G'] == 'M']\n",
    "F = df[df['G'] == 'F']\n",
    "sns.relplot(data=M, x='split1', y='split2', hue='time')\n",
    "sns.relplot(data=F, x='split1', y='split2', hue='time')\n",
    "#sns.relplot(data=df, x='split1', y='split2', hue='G', size='time')"
   ]
  },
  {
   "cell_type": "code",
   "execution_count": 8,
   "metadata": {},
   "outputs": [
    {
     "data": {
      "image/png": "[encoded data removed]",
      "text/plain": [
       "<Figure size 576x576 with 1 Axes>"
      ]
     },
     "metadata": {
      "needs_background": "light"
     },
     "output_type": "display_data"
    }
   ],
   "source": [
    "def event_plot(df):\n",
    "    plt.figure(figsize=(8,8))\n",
    "    plt.scatter(df['split1'], df['split2'], label='G')\n",
    "#    plt.scatter(second['year'], second['result'], label='s', color='grey')\n",
    "    plt.title(f'2021 NCAA 800m Split Analysis: First vs Second Half')\n",
    "    plt.xlabel('First 400m')\n",
    "    plt.ylabel('Last 400m')\n",
    "    plt.legend()\n",
    "    plt.grid()\n",
    "    \n",
    "event_plot(df)"
   ]
  },
  {
   "cell_type": "code",
   "execution_count": null,
   "metadata": {},
   "outputs": [],
   "source": []
  },
  {
   "cell_type": "code",
   "execution_count": null,
   "metadata": {},
   "outputs": [],
   "source": []
  },
  {
   "cell_type": "code",
   "execution_count": null,
   "metadata": {},
   "outputs": [],
   "source": []
  },
  {
   "cell_type": "code",
   "execution_count": null,
   "metadata": {},
   "outputs": [],
   "source": []
  },
  {
   "cell_type": "markdown",
   "metadata": {},
   "source": [
    "## All Time 4x400m Races"
   ]
  },
  {
   "cell_type": "code",
   "execution_count": 9,
   "metadata": {},
   "outputs": [],
   "source": [
    "url_1 = 'http://www.alltime-athletics.com/m4x400ok.htm'\n",
    "url_2 = 'http://www.alltime-athletics.com/w4x400ok.htm'"
   ]
  },
  {
   "cell_type": "code",
   "execution_count": 20,
   "metadata": {},
   "outputs": [
    {
     "data": {
      "text/plain": [
       "['<pre>',\n",
       " '        1      2:54.29    United States                      1           Stuttgart                22.08.1993',\n",
       " '',\n",
       " '                          Andrew Valmon                       (44.5)     01.01.65                 USA',\n",
       " '                          Quincy Watts                        (43.6)     19.06.70                 USA',\n",
       " '                          Harry Reynolds                      (43.23)    08.06.64                 USA',\n",
       " '                          Michael Johnson                     (42.94)    13.09.67                 USA',\n",
       " '',\n",
       " '        2      2:55.39    United States                      1           Beijing                  23.08.2008',\n",
       " '',\n",
       " '                          LaShawn Merritt                     (44.35e)   27.06.86                 USA',\n",
       " '                          Angelo Taylor                       (43.70e)   29.12.78                 USA',\n",
       " '                          David Neville                       (44.16)    01.06.84                 USA',\n",
       " '                          Jeremy Wariner                      (43.18)    31.01.84                 USA',\n",
       " '',\n",
       " '        3      2:55.56    United States                      1           Osaka                    02.09.2007',\n",
       " '',\n",
       " '                          LaShawn Merritt                     (44.4)     27.06.86                 USA',\n",
       " '                          Angelo Taylor                       (43.7)     29.12.78                 USA',\n",
       " '                          Darold Williamson                   (44.32)    19.02.83                 USA']"
      ]
     },
     "execution_count": 20,
     "metadata": {},
     "output_type": "execute_result"
    }
   ],
   "source": [
    "response = requests.get(url_1) #url_2\n",
    "soup = BeautifulSoup(response.text)\n",
    "\n",
    "s = str(soup.findAll('pre')[0]).split('\\n')\n",
    "s[:20]"
   ]
  },
  {
   "cell_type": "code",
   "execution_count": 21,
   "metadata": {},
   "outputs": [
    {
     "data": {
      "text/html": [
       "<div>\n",
       "<style scoped>\n",
       "    .dataframe tbody tr th:only-of-type {\n",
       "        vertical-align: middle;\n",
       "    }\n",
       "\n",
       "    .dataframe tbody tr th {\n",
       "        vertical-align: top;\n",
       "    }\n",
       "\n",
       "    .dataframe thead th {\n",
       "        text-align: right;\n",
       "    }\n",
       "</style>\n",
       "<table border=\"1\" class=\"dataframe\">\n",
       "  <thead>\n",
       "    <tr style=\"text-align: right;\">\n",
       "      <th></th>\n",
       "      <th>leadoff</th>\n",
       "      <th>second</th>\n",
       "      <th>third</th>\n",
       "      <th>anchor</th>\n",
       "    </tr>\n",
       "  </thead>\n",
       "  <tbody>\n",
       "    <tr>\n",
       "      <th>0</th>\n",
       "      <td>44.50</td>\n",
       "      <td>43.60</td>\n",
       "      <td>43.23</td>\n",
       "      <td>42.94</td>\n",
       "    </tr>\n",
       "    <tr>\n",
       "      <th>1</th>\n",
       "      <td>44.35</td>\n",
       "      <td>43.70</td>\n",
       "      <td>44.16</td>\n",
       "      <td>43.18</td>\n",
       "    </tr>\n",
       "    <tr>\n",
       "      <th>2</th>\n",
       "      <td>44.40</td>\n",
       "      <td>43.70</td>\n",
       "      <td>44.32</td>\n",
       "      <td>43.10</td>\n",
       "    </tr>\n",
       "    <tr>\n",
       "      <th>3</th>\n",
       "      <td>44.40</td>\n",
       "      <td>43.10</td>\n",
       "      <td>44.70</td>\n",
       "      <td>43.40</td>\n",
       "    </tr>\n",
       "    <tr>\n",
       "      <th>4</th>\n",
       "      <td>44.50</td>\n",
       "      <td>43.60</td>\n",
       "      <td>43.98</td>\n",
       "      <td>43.83</td>\n",
       "    </tr>\n",
       "    <tr>\n",
       "      <th>5</th>\n",
       "      <td>44.62</td>\n",
       "      <td>43.84</td>\n",
       "      <td>43.66</td>\n",
       "      <td>43.87</td>\n",
       "    </tr>\n",
       "    <tr>\n",
       "      <th>6</th>\n",
       "      <td>45.00</td>\n",
       "      <td>43.20</td>\n",
       "      <td>43.90</td>\n",
       "      <td>44.10</td>\n",
       "    </tr>\n",
       "    <tr>\n",
       "      <th>7</th>\n",
       "      <td>43.79</td>\n",
       "      <td>43.69</td>\n",
       "      <td>44.74</td>\n",
       "      <td>43.94</td>\n",
       "    </tr>\n",
       "    <tr>\n",
       "      <th>8</th>\n",
       "      <td>44.92</td>\n",
       "      <td>44.19</td>\n",
       "      <td>43.62</td>\n",
       "      <td>43.87</td>\n",
       "    </tr>\n",
       "    <tr>\n",
       "      <th>9</th>\n",
       "      <td>44.80</td>\n",
       "      <td>44.20</td>\n",
       "      <td>44.08</td>\n",
       "      <td>43.57</td>\n",
       "    </tr>\n",
       "    <tr>\n",
       "      <th>10</th>\n",
       "      <td>44.50</td>\n",
       "      <td>43.60</td>\n",
       "      <td>44.43</td>\n",
       "      <td>44.19</td>\n",
       "    </tr>\n",
       "    <tr>\n",
       "      <th>11</th>\n",
       "      <td>45.20</td>\n",
       "      <td>43.30</td>\n",
       "      <td>44.25</td>\n",
       "      <td>44.01</td>\n",
       "    </tr>\n",
       "    <tr>\n",
       "      <th>12</th>\n",
       "      <td>44.50</td>\n",
       "      <td>44.40</td>\n",
       "      <td>44.37</td>\n",
       "      <td>43.51</td>\n",
       "    </tr>\n",
       "    <tr>\n",
       "      <th>13</th>\n",
       "      <td>44.70</td>\n",
       "      <td>44.30</td>\n",
       "      <td>44.40</td>\n",
       "      <td>43.49</td>\n",
       "    </tr>\n",
       "    <tr>\n",
       "      <th>14</th>\n",
       "      <td>45.10</td>\n",
       "      <td>43.70</td>\n",
       "      <td>43.41</td>\n",
       "      <td>44.85</td>\n",
       "    </tr>\n",
       "  </tbody>\n",
       "</table>\n",
       "</div>"
      ],
      "text/plain": [
       "    leadoff  second  third  anchor\n",
       "0     44.50   43.60  43.23   42.94\n",
       "1     44.35   43.70  44.16   43.18\n",
       "2     44.40   43.70  44.32   43.10\n",
       "3     44.40   43.10  44.70   43.40\n",
       "4     44.50   43.60  43.98   43.83\n",
       "5     44.62   43.84  43.66   43.87\n",
       "6     45.00   43.20  43.90   44.10\n",
       "7     43.79   43.69  44.74   43.94\n",
       "8     44.92   44.19  43.62   43.87\n",
       "9     44.80   44.20  44.08   43.57\n",
       "10    44.50   43.60  44.43   44.19\n",
       "11    45.20   43.30  44.25   44.01\n",
       "12    44.50   44.40  44.37   43.51\n",
       "13    44.70   44.30  44.40   43.49\n",
       "14    45.10   43.70  43.41   44.85"
      ]
     },
     "execution_count": 21,
     "metadata": {},
     "output_type": "execute_result"
    }
   ],
   "source": [
    "def get_df(s):\n",
    "    i = 0\n",
    "    records = []\n",
    "    while i + 7 < len(s):\n",
    "        race = []\n",
    "        i += 1\n",
    "        #print(i)\n",
    "        #print('i:', s[i])\n",
    "        #race += [s[i]]\n",
    "        if '(' in s[i+2] and '(' in s[i+3] and '(' in s[i+4] and '(' in s[i+5]:\n",
    "            for j in [i+2, i+3, i+4, i+5]:\n",
    "                #print(s[j])\n",
    "                time = s[j].split('(')[1].split(')')[0]\n",
    "                time = float(re.sub('[a-zA-Z]', '', time))\n",
    "                #time = float(re.sub('[,]', '[.]', time))\n",
    "                #print(time)\n",
    "                race += [time]\n",
    "                #print(race)\n",
    "        records += [race]\n",
    "        i += 6\n",
    "    return records\n",
    "    \n",
    "df = get_df(s)\n",
    "df = [e for e in df if len(e) > 0 ]\n",
    "df = pd.DataFrame(df, columns = ['leadoff', 'second', 'third', 'anchor'])\n",
    "df[:15]"
   ]
  },
  {
   "cell_type": "code",
   "execution_count": 22,
   "metadata": {},
   "outputs": [
    {
     "data": {
      "text/html": [
       "<div>\n",
       "<style scoped>\n",
       "    .dataframe tbody tr th:only-of-type {\n",
       "        vertical-align: middle;\n",
       "    }\n",
       "\n",
       "    .dataframe tbody tr th {\n",
       "        vertical-align: top;\n",
       "    }\n",
       "\n",
       "    .dataframe thead th {\n",
       "        text-align: right;\n",
       "    }\n",
       "</style>\n",
       "<table border=\"1\" class=\"dataframe\">\n",
       "  <thead>\n",
       "    <tr style=\"text-align: right;\">\n",
       "      <th></th>\n",
       "      <th>leadoff</th>\n",
       "      <th>second</th>\n",
       "      <th>third</th>\n",
       "      <th>anchor</th>\n",
       "      <th>half1</th>\n",
       "      <th>half2</th>\n",
       "      <th>total</th>\n",
       "      <th>hdiff</th>\n",
       "      <th>hd</th>\n",
       "    </tr>\n",
       "  </thead>\n",
       "  <tbody>\n",
       "    <tr>\n",
       "      <th>0</th>\n",
       "      <td>44.50</td>\n",
       "      <td>43.60</td>\n",
       "      <td>43.23</td>\n",
       "      <td>42.94</td>\n",
       "      <td>88.10</td>\n",
       "      <td>86.17</td>\n",
       "      <td>174.27</td>\n",
       "      <td>1.93</td>\n",
       "      <td>1.0</td>\n",
       "    </tr>\n",
       "    <tr>\n",
       "      <th>1</th>\n",
       "      <td>44.35</td>\n",
       "      <td>43.70</td>\n",
       "      <td>44.16</td>\n",
       "      <td>43.18</td>\n",
       "      <td>88.05</td>\n",
       "      <td>87.34</td>\n",
       "      <td>175.39</td>\n",
       "      <td>0.71</td>\n",
       "      <td>1.0</td>\n",
       "    </tr>\n",
       "    <tr>\n",
       "      <th>2</th>\n",
       "      <td>44.40</td>\n",
       "      <td>43.70</td>\n",
       "      <td>44.32</td>\n",
       "      <td>43.10</td>\n",
       "      <td>88.10</td>\n",
       "      <td>87.42</td>\n",
       "      <td>175.52</td>\n",
       "      <td>0.68</td>\n",
       "      <td>1.0</td>\n",
       "    </tr>\n",
       "    <tr>\n",
       "      <th>3</th>\n",
       "      <td>44.40</td>\n",
       "      <td>43.10</td>\n",
       "      <td>44.70</td>\n",
       "      <td>43.40</td>\n",
       "      <td>87.50</td>\n",
       "      <td>88.10</td>\n",
       "      <td>175.60</td>\n",
       "      <td>-0.60</td>\n",
       "      <td>-1.0</td>\n",
       "    </tr>\n",
       "    <tr>\n",
       "      <th>4</th>\n",
       "      <td>44.50</td>\n",
       "      <td>43.60</td>\n",
       "      <td>43.98</td>\n",
       "      <td>43.83</td>\n",
       "      <td>88.10</td>\n",
       "      <td>87.81</td>\n",
       "      <td>175.91</td>\n",
       "      <td>0.29</td>\n",
       "      <td>1.0</td>\n",
       "    </tr>\n",
       "    <tr>\n",
       "      <th>...</th>\n",
       "      <td>...</td>\n",
       "      <td>...</td>\n",
       "      <td>...</td>\n",
       "      <td>...</td>\n",
       "      <td>...</td>\n",
       "      <td>...</td>\n",
       "      <td>...</td>\n",
       "      <td>...</td>\n",
       "      <td>...</td>\n",
       "    </tr>\n",
       "    <tr>\n",
       "      <th>1203</th>\n",
       "      <td>46.70</td>\n",
       "      <td>45.80</td>\n",
       "      <td>46.20</td>\n",
       "      <td>44.90</td>\n",
       "      <td>92.50</td>\n",
       "      <td>91.10</td>\n",
       "      <td>183.60</td>\n",
       "      <td>1.40</td>\n",
       "      <td>1.0</td>\n",
       "    </tr>\n",
       "    <tr>\n",
       "      <th>1204</th>\n",
       "      <td>46.40</td>\n",
       "      <td>46.20</td>\n",
       "      <td>45.20</td>\n",
       "      <td>45.50</td>\n",
       "      <td>92.60</td>\n",
       "      <td>90.70</td>\n",
       "      <td>183.30</td>\n",
       "      <td>1.90</td>\n",
       "      <td>1.0</td>\n",
       "    </tr>\n",
       "    <tr>\n",
       "      <th>1205</th>\n",
       "      <td>46.40</td>\n",
       "      <td>45.50</td>\n",
       "      <td>46.21</td>\n",
       "      <td>45.42</td>\n",
       "      <td>91.90</td>\n",
       "      <td>91.63</td>\n",
       "      <td>183.53</td>\n",
       "      <td>0.27</td>\n",
       "      <td>1.0</td>\n",
       "    </tr>\n",
       "    <tr>\n",
       "      <th>1206</th>\n",
       "      <td>46.40</td>\n",
       "      <td>45.80</td>\n",
       "      <td>45.45</td>\n",
       "      <td>45.94</td>\n",
       "      <td>92.20</td>\n",
       "      <td>91.39</td>\n",
       "      <td>183.59</td>\n",
       "      <td>0.81</td>\n",
       "      <td>1.0</td>\n",
       "    </tr>\n",
       "    <tr>\n",
       "      <th>1207</th>\n",
       "      <td>46.85</td>\n",
       "      <td>44.41</td>\n",
       "      <td>45.61</td>\n",
       "      <td>46.62</td>\n",
       "      <td>91.26</td>\n",
       "      <td>92.23</td>\n",
       "      <td>183.49</td>\n",
       "      <td>-0.97</td>\n",
       "      <td>-1.0</td>\n",
       "    </tr>\n",
       "  </tbody>\n",
       "</table>\n",
       "<p>1208 rows × 9 columns</p>\n",
       "</div>"
      ],
      "text/plain": [
       "      leadoff  second  third  anchor  half1  half2   total  hdiff   hd\n",
       "0       44.50   43.60  43.23   42.94  88.10  86.17  174.27   1.93  1.0\n",
       "1       44.35   43.70  44.16   43.18  88.05  87.34  175.39   0.71  1.0\n",
       "2       44.40   43.70  44.32   43.10  88.10  87.42  175.52   0.68  1.0\n",
       "3       44.40   43.10  44.70   43.40  87.50  88.10  175.60  -0.60 -1.0\n",
       "4       44.50   43.60  43.98   43.83  88.10  87.81  175.91   0.29  1.0\n",
       "...       ...     ...    ...     ...    ...    ...     ...    ...  ...\n",
       "1203    46.70   45.80  46.20   44.90  92.50  91.10  183.60   1.40  1.0\n",
       "1204    46.40   46.20  45.20   45.50  92.60  90.70  183.30   1.90  1.0\n",
       "1205    46.40   45.50  46.21   45.42  91.90  91.63  183.53   0.27  1.0\n",
       "1206    46.40   45.80  45.45   45.94  92.20  91.39  183.59   0.81  1.0\n",
       "1207    46.85   44.41  45.61   46.62  91.26  92.23  183.49  -0.97 -1.0\n",
       "\n",
       "[1208 rows x 9 columns]"
      ]
     },
     "execution_count": 22,
     "metadata": {},
     "output_type": "execute_result"
    }
   ],
   "source": [
    "d = df\n",
    "d['half1'] = d['leadoff'] + d['second']\n",
    "d['half2'] = d['third'] + d['anchor']\n",
    "d['total'] = d['half1'] + d['half2']\n",
    "d['hdiff'] = d['half1']  - d['half2'] #start was _ faster than end\n",
    "d['hd'] = d['hdiff'] / abs(d['hdiff'])\n",
    "d"
   ]
  },
  {
   "cell_type": "code",
   "execution_count": 24,
   "metadata": {},
   "outputs": [
    {
     "data": {
      "image/png": "[encoded data removed]",
      "text/plain": [
       "<Figure size 576x576 with 1 Axes>"
      ]
     },
     "metadata": {
      "needs_background": "light"
     },
     "output_type": "display_data"
    }
   ],
   "source": [
    "def event_plot(df):\n",
    "    #x = \n",
    "    plt.figure(figsize=(8,8))\n",
    "    plt.scatter(d['half1'], d['half2'])\n",
    "#    plt.scatter(second['year'], second['result'], label='s', color='grey')\n",
    "    plt.title(f'Top 4x4 Split Analysis: First vs Second Half')\n",
    "    plt.xlabel('First Half')\n",
    "    plt.ylabel('Second Half')\n",
    "    #plt.plot()\n",
    "    #plt.legend()\n",
    "    plt.grid()\n",
    "    \n",
    "event_plot(d)"
   ]
  },
  {
   "cell_type": "code",
   "execution_count": 25,
   "metadata": {},
   "outputs": [
    {
     "data": {
      "text/plain": [
       "<seaborn.axisgrid.JointGrid at 0x7fdc55f085e0>"
      ]
     },
     "execution_count": 25,
     "metadata": {},
     "output_type": "execute_result"
    },
    {
     "data": {
      "image/png": "[encoded data removed]",
      "text/plain": [
       "<Figure size 432x432 with 3 Axes>"
      ]
     },
     "metadata": {
      "needs_background": "light"
     },
     "output_type": "display_data"
    }
   ],
   "source": [
    "test = d[:300]\n",
    "sns.jointplot(x='half1', y='half2', data=test, color='purple')"
   ]
  },
  {
   "cell_type": "code",
   "execution_count": null,
   "metadata": {},
   "outputs": [],
   "source": []
  },
  {
   "cell_type": "code",
   "execution_count": null,
   "metadata": {},
   "outputs": [],
   "source": []
  }
 ],
 "metadata": {
  "kernelspec": {
   "display_name": "Python 3",
   "language": "python",
   "name": "python3"
  },
  "language_info": {
   "codemirror_mode": {
    "name": "ipython",
    "version": 3
   },
   "file_extension": ".py",
   "mimetype": "text/x-python",
   "name": "python",
   "nbconvert_exporter": "python",
   "pygments_lexer": "ipython3",
   "version": "3.8.3"
  }
 },
 "nbformat": 4,
 "nbformat_minor": 4
}
